{
 "cells": [
  {
   "cell_type": "code",
   "execution_count": 79,
   "id": "521b581f",
   "metadata": {},
   "outputs": [],
   "source": [
    "# packages\n",
    "import os\n",
    "import re\n",
    "from io import open\n",
    "import pandas as pd"
   ]
  },
  {
   "cell_type": "code",
   "execution_count": 260,
   "id": "7c0cc072",
   "metadata": {},
   "outputs": [],
   "source": [
    "# function to get all the full paths\n",
    "def get_full_paths(list_directories):\n",
    "    patter = re.compile(\".*\\.txt\")\n",
    "    full_paths = list()\n",
    "    for i in range(1,len(list_directories)):\n",
    "        file = [x for x in directories[i][2] if re.match(patter, x)]\n",
    "        full_paths.append(list_directories[i][0] + \"\\\\\"+ file[0])\n",
    "    return full_paths\n",
    "\n",
    "\n",
    "# paths automated\n",
    "# function to get all the full paths\n",
    "def get_full_paths(list_directories):\n",
    "    patter = re.compile(\".*\\.txt\")\n",
    "    full_paths = list()\n",
    "    for i in range(1,len(list_directories)):\n",
    "        file = [x for x in list_directories[i][2] if re.match(patter, x)]\n",
    "        full_paths.append(os.path.join(list_directories[i][0],file[0]))\n",
    "    return full_paths"
   ]
  },
  {
   "cell_type": "code",
   "execution_count": 261,
   "id": "c47beb1a",
   "metadata": {},
   "outputs": [],
   "source": [
    "# get the data of each file in a excel file\n",
    "def convert_files_to_excel(full_paths, col_names, patterns):\n",
    "    # create the dataframe\n",
    "    data = pd.DataFrame(columns = col_names)\n",
    "\n",
    "    for i in range(0,len(full_paths)):\n",
    "    #for i in range(0, 2):\n",
    "        # get the content\n",
    "        file_point = open(full_paths[i], \"r\")\n",
    "        content = file_point.read()\n",
    "        file_point.close()\n",
    "        # get the data\n",
    "        row = list()\n",
    "        for j in range(0, len(col_names)):    \n",
    "            try:\n",
    "                found = re.search(patterns[j], content, flags=re.DOTALL).group(1).strip().replace(\"\\n\", \" \")\n",
    "            except AttributeError:\n",
    "                found = \"NA\" # apply your error handling\n",
    "            row.append(found)\n",
    "        # add the data to the dataframe\n",
    "        data.loc[i] = row\n",
    "    print(os.getcwd())\n",
    "    os.chdir(\"..\")\n",
    "    data.to_excel(os.path.join(os.getcwd(),\"dataMerged.xlsx\"), index = False)\n",
    "    print(os.getcwd())\n",
    "    return data\n",
    "#df.to_excel(r'C:\\Users\\Ron\\Desktop\\File_Name.xlsx', index = False)"
   ]
  },
  {
   "cell_type": "code",
   "execution_count": 262,
   "id": "3b7c33f8",
   "metadata": {},
   "outputs": [
    {
     "name": "stdout",
     "output_type": "stream",
     "text": [
      "E:\\Erick\\OneDrive-2022-03-07\n",
      "E:\\Erick\n"
     ]
    }
   ],
   "source": [
    "# ================= main script ===================\n",
    "\n",
    "os.chdir(\"OneDrive-2022-03-07\")\n",
    "os.getcwd()\n",
    "list_directories = list(os.walk(\".\"))\n",
    "\n",
    "# get the paths of each file \n",
    "full_paths = get_full_paths(list_directories = list_directories)\n",
    "\n",
    "# set columns name and the patterns to find the data\n",
    "col_names = (\"Ortofoto_Digital\", \"Fuente\", \"Procesamiento\", \n",
    "             \"Proyeccion\", \"Datum\", \"Elipsoide\",\n",
    "             \"ImagenDim_cols\", \"ImagenDim_rows\",\n",
    "             \"ZonaUTM\", \"CoorEsqNoroeste_este\",\n",
    "             \"CoorEsqNoroeste_norte\", \"CoorEsqSureste_este\",\n",
    "            \"CoorEsqSureste_norte\", \"Dim_Pixel_XY\", \"Formato\")\n",
    "\n",
    "patterns = (\"ORTOFOTO DIGITAL:(.+?)\\nFUENTE\", \"FUENTE:(.+?)\\nPROCESAMIENTO\", \n",
    "           \"PROCESAMIENTO:(.+?)\\nPROYECCION\", \"PROYECCION:(.+?)\\nDATUM\", \n",
    "           \"DATUM:(.+?)\\nELIPSOIDE\", \"ELIPSOIDE:(.+?)\\nDIMENSIONES\", \n",
    "           \"DIMENSIONES DE LA IMAGEN:.*Columnas :(.+?)\\n.*Renglones\", \n",
    "           \"DIMENSIONES DE LA IMAGEN:.*Columnas :.*\\n.*Renglones:(.+?)\\nZONA\",\n",
    "           \"ZONA UTM:(.+?)\\nCOORDENADAS\", \n",
    "           \"COORDENADAS DE LA ESQUINA NOROESTE:.*Este:(.+?)\\n.*Norte\",\n",
    "           \"COORDENADAS DE LA ESQUINA NOROESTE:.*Este:.*\\n.*Norte:(.+?)\\nCOORDENADAS\",\n",
    "           \"COORDENADAS DE LA ESQUINA SURESTE:.*Este:(.+?)\\n.*Norte\",\n",
    "           \"COORDENADAS DE LA ESQUINA SURESTE:.*Este:.*\\n.*Norte:(.+?)\\nDIMENSIONES\",\n",
    "           \"DIMENSIONES DEL PIXEL X,Y:(.+?)\\nFORMATO\", \n",
    "           \"FORMATO:(.+?)\\n\")\n",
    "\n",
    "proof = convert_files_to_excel(full_paths = full_paths, col_names = col_names, patterns = patterns)"
   ]
  },
  {
   "cell_type": "code",
   "execution_count": 255,
   "id": "e5a19c2c",
   "metadata": {},
   "outputs": [
    {
     "data": {
      "text/plain": [
       "'E:\\\\Erick'"
      ]
     },
     "execution_count": 255,
     "metadata": {},
     "output_type": "execute_result"
    }
   ],
   "source": [
    "os.getcwd()\n",
    "#os.chdir(\"..\")\n",
    "os.getcwd()"
   ]
  },
  {
   "cell_type": "code",
   "execution_count": 258,
   "id": "ab9023f4",
   "metadata": {},
   "outputs": [],
   "source": [
    "full_paths = get_full_paths(list_directories = list_directories)"
   ]
  },
  {
   "cell_type": "code",
   "execution_count": 259,
   "id": "2ed0d380",
   "metadata": {},
   "outputs": [
    {
     "data": {
      "text/plain": [
       "['.\\\\ortofoto_O1_20k_D14B14B_i92_1.5_B\\\\d14b14b.txt',\n",
       " '.\\\\ortofoto_O1_20k_D14B14C_i92_1.5_B\\\\d14b14c.txt',\n",
       " '.\\\\ortofoto_O1_20k_D14B15A_i92_1.5_B\\\\d14b15a.txt',\n",
       " '.\\\\ortofoto_O1_20k_D14B15B_i92_1.5_B\\\\d14b15b.txt',\n",
       " '.\\\\ortofoto_O1_20k_D14B15C_i92_1.5_B\\\\d14b15c.txt',\n",
       " '.\\\\ortofoto_O1_20k_D14B16A_i92_1.5_B\\\\d14b16a.txt',\n",
       " '.\\\\ortofoto_O1_20k_D14B16B_i92_1.5_B\\\\d14b16b.txt',\n",
       " '.\\\\ortofoto_O1_20k_D14B16C_i92_1.5_B\\\\d14b16c.txt',\n",
       " '.\\\\ortofoto_O1_20k_D14B16F_i92_1.5_B\\\\d14b16f.txt',\n",
       " '.\\\\ortofoto_O1_20k_D14B17A_i92_2.0_B\\\\d14b17a.txt',\n",
       " '.\\\\ortofoto_O1_20k_D14B17B_i92_2.0_B\\\\d14b17b.txt',\n",
       " '.\\\\ortofoto_O1_20k_D14B17C_i92_2.0_B\\\\d14b17c.txt',\n",
       " '.\\\\ortofoto_O1_20k_D14B17D_i92_2.0_B\\\\d14b17d.txt']"
      ]
     },
     "execution_count": 259,
     "metadata": {},
     "output_type": "execute_result"
    }
   ],
   "source": [
    "full_paths"
   ]
  }
 ],
 "metadata": {
  "kernelspec": {
   "display_name": "Python 3",
   "language": "python",
   "name": "python3"
  },
  "language_info": {
   "codemirror_mode": {
    "name": "ipython",
    "version": 3
   },
   "file_extension": ".py",
   "mimetype": "text/x-python",
   "name": "python",
   "nbconvert_exporter": "python",
   "pygments_lexer": "ipython3",
   "version": "3.8.8"
  }
 },
 "nbformat": 4,
 "nbformat_minor": 5
}
